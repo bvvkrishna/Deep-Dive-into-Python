{
 "cells": [
  {
   "cell_type": "code",
   "execution_count": 1,
   "metadata": {},
   "outputs": [
    {
     "name": "stdout",
     "output_type": "stream",
     "text": [
      "1.97 ms ± 123 µs per loop (mean ± std. dev. of 7 runs, 1000 loops each)\n",
      "0:00:15.828199\n"
     ]
    }
   ],
   "source": [
    "# List on summing up 1 lakh numbers\n",
    "\n",
    "L = range(100000)\n",
    "from datetime import datetime\n",
    "\n",
    "start = datetime.now()\n",
    "%timeit sum_val = sum(L)\n",
    "delta = datetime.now() - start\n",
    "print(delta)"
   ]
  },
  {
   "cell_type": "code",
   "execution_count": 2,
   "metadata": {},
   "outputs": [
    {
     "name": "stdout",
     "output_type": "stream",
     "text": [
      "52.9 µs ± 4.86 µs per loop (mean ± std. dev. of 7 runs, 10000 loops each)\n"
     ]
    }
   ],
   "source": [
    "# Numpy on summing up 1 lakh numbers\n",
    "\n",
    "import numpy as np\n",
    "\n",
    "numpy_L = np.arange(100000)\n",
    "\n",
    "%timeit sum_val = np.sum(numpy_L)"
   ]
  }
 ],
 "metadata": {
  "kernelspec": {
   "display_name": "Python 3",
   "language": "python",
   "name": "python3"
  },
  "language_info": {
   "codemirror_mode": {
    "name": "ipython",
    "version": 3
   },
   "file_extension": ".py",
   "mimetype": "text/x-python",
   "name": "python",
   "nbconvert_exporter": "python",
   "pygments_lexer": "ipython3",
   "version": "3.7.6"
  }
 },
 "nbformat": 4,
 "nbformat_minor": 4
}
