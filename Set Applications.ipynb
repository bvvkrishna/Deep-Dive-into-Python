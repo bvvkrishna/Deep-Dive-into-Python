{
 "cells": [
  {
   "cell_type": "code",
   "execution_count": 9,
   "metadata": {},
   "outputs": [
    {
     "name": "stdout",
     "output_type": "stream",
     "text": [
      "Elements in set are:  {40, 50, 20, 55, 30}\n",
      "Common elements between sets are:  {40, 50}\n",
      "Common elements between sets are:  {40, 50}\n",
      "Are these two unsorted elements equal:  True\n",
      "Are these two unsorted elements equal:  False\n",
      "Both sets are same\n",
      "Sets are different and the difference in S1 is: {20, 30, 55}\n"
     ]
    }
   ],
   "source": [
    "S1 = {20, 30, 40, 50, 20, 40, 55, 20, 30, 30, 30, 50, 55}\n",
    "S2 = {25, 35, 40, 50, 56, 77}\n",
    "S3 = {20, 30, 30, 30, 50, 55, 20, 30, 40, 50, 20, 40, 55}\n",
    "\n",
    "# can see duplicate elements removed and only unique elements exist\n",
    "print('Elements in set are: ', S1) \n",
    "# can identify common elements between two sets\n",
    "print('Common elements between sets are: ', S1.intersection(S2)) # using set function to identify common elements\n",
    "print('Common elements between sets are: ', S1 & S2) # using symbols to identify common elements \n",
    "# can verify if two unsorted sets S1 and S3 are equal\n",
    "# unsorted elements in both sets S1, S2 are same. Hence returns True\n",
    "print('Are these two unsorted elements equal: ', S1 == S3) \n",
    "# unsorted elements in both sets S1, S3 are different. Hence returns False\n",
    "print('Are these two unsorted elements equal: ', S1 == S2)\n",
    "# when both sets are same\n",
    "diff = S1 - S3\n",
    "if diff:\n",
    "    print('Sets are different and the difference in S1 is:', diff)\n",
    "else:\n",
    "    print('Both sets are same')\n",
    "# when both sets are different\n",
    "diff = S1 - S2\n",
    "if diff:\n",
    "    print('Sets are different and the difference in S1 is:', diff)\n",
    "else:\n",
    "    print('Both sets are same')"
   ]
  }
 ],
 "metadata": {
  "kernelspec": {
   "display_name": "Python 3",
   "language": "python",
   "name": "python3"
  },
  "language_info": {
   "codemirror_mode": {
    "name": "ipython",
    "version": 3
   },
   "file_extension": ".py",
   "mimetype": "text/x-python",
   "name": "python",
   "nbconvert_exporter": "python",
   "pygments_lexer": "ipython3",
   "version": "3.7.6"
  }
 },
 "nbformat": 4,
 "nbformat_minor": 4
}
