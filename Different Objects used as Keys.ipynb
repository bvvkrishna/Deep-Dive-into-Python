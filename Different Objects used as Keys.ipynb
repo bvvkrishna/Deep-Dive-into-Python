{
 "cells": [
  {
   "cell_type": "code",
   "execution_count": 1,
   "metadata": {},
   "outputs": [
    {
     "name": "stdout",
     "output_type": "stream",
     "text": [
      "{}\n"
     ]
    }
   ],
   "source": [
    "# creating an empty dictionary\n",
    "D = {}\n",
    "print(D)"
   ]
  },
  {
   "cell_type": "code",
   "execution_count": 2,
   "metadata": {},
   "outputs": [
    {
     "name": "stdout",
     "output_type": "stream",
     "text": [
      "{1: 'integer as key', 3.4: 'float as key', 'abcd': 'string as key', (1, 2): 'tuple as key', False: 'bool value as key', range(1, 20): 'range operator as key'}\n"
     ]
    }
   ],
   "source": [
    "# Different object types used as keys\n",
    "D[1] = 'integer as key'\n",
    "D[3.4] = 'float as key'\n",
    "D['abcd'] = 'string as key'\n",
    "D[(1,2)] = 'tuple as key'\n",
    "D[False] = 'bool value as key'\n",
    "D[range(1,20)] = 'range operator as key'\n",
    "print(D)"
   ]
  },
  {
   "cell_type": "code",
   "execution_count": null,
   "metadata": {},
   "outputs": [],
   "source": [
    "# Frozen set used a"
   ]
  }
 ],
 "metadata": {
  "kernelspec": {
   "display_name": "Python 3",
   "language": "python",
   "name": "python3"
  },
  "language_info": {
   "codemirror_mode": {
    "name": "ipython",
    "version": 3
   },
   "file_extension": ".py",
   "mimetype": "text/x-python",
   "name": "python",
   "nbconvert_exporter": "python",
   "pygments_lexer": "ipython3",
   "version": "3.7.6"
  }
 },
 "nbformat": 4,
 "nbformat_minor": 4
}
