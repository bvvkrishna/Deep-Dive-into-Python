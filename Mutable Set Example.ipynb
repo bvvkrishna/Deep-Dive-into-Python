{
 "cells": [
  {
   "cell_type": "code",
   "execution_count": 4,
   "metadata": {},
   "outputs": [
    {
     "name": "stdout",
     "output_type": "stream",
     "text": [
      "A Simple set:  {1, 2.5, 'hello world'}\n",
      "Set after adding immutable elements:  {1, 2.5, 3.145, (1+3j), 1900, 'hi how are you?', 'hello world', ('tuple1 element', 9999, 88.88)}\n"
     ]
    },
    {
     "ename": "TypeError",
     "evalue": "unhashable type: 'list'",
     "output_type": "error",
     "traceback": [
      "\u001b[0;31m---------------------------------------------------------------------------\u001b[0m",
      "\u001b[0;31mTypeError\u001b[0m                                 Traceback (most recent call last)",
      "\u001b[0;32m<ipython-input-4-3599a552f77d>\u001b[0m in \u001b[0;36m<module>\u001b[0;34m\u001b[0m\n\u001b[1;32m     14\u001b[0m \u001b[0;31m# Cannot allow list to be added because it is mutable data structure\u001b[0m\u001b[0;34m\u001b[0m\u001b[0;34m\u001b[0m\u001b[0;34m\u001b[0m\u001b[0m\n\u001b[1;32m     15\u001b[0m \u001b[0;31m# the same error we will get when we try to add other mutable types like sets, dictionaries\u001b[0m\u001b[0;34m\u001b[0m\u001b[0;34m\u001b[0m\u001b[0;34m\u001b[0m\u001b[0m\n\u001b[0;32m---> 16\u001b[0;31m \u001b[0mS\u001b[0m\u001b[0;34m.\u001b[0m\u001b[0madd\u001b[0m\u001b[0;34m(\u001b[0m\u001b[0;34m[\u001b[0m\u001b[0;36m1\u001b[0m\u001b[0;34m,\u001b[0m\u001b[0;36m2\u001b[0m\u001b[0;34m]\u001b[0m\u001b[0;34m)\u001b[0m\u001b[0;34m\u001b[0m\u001b[0;34m\u001b[0m\u001b[0m\n\u001b[0m\u001b[1;32m     17\u001b[0m \u001b[0mprint\u001b[0m\u001b[0;34m(\u001b[0m\u001b[0mS\u001b[0m\u001b[0;34m)\u001b[0m\u001b[0;34m\u001b[0m\u001b[0;34m\u001b[0m\u001b[0m\n",
      "\u001b[0;31mTypeError\u001b[0m: unhashable type: 'list'"
     ]
    }
   ],
   "source": [
    "# A simple element set\n",
    "S = {1,2.5,\"hello world\"}\n",
    "print(\"A Simple set: \", S)\n",
    "\n",
    "##### Can allow immutable elements to be added\n",
    "S.add(1900) # Can add an integer which is an immutable\n",
    "S.add(3.145) # Can add a float value which is an immutable\n",
    "S.add(1 + 3j) # Can add a complex number which is an immutable\n",
    "S.add('hi how are you?') # Can add a string which is an immutable\n",
    "S.add(('tuple1 element', 9999, 88.88)) # Can add a tuple which is an immutable\n",
    "print(\"Set after adding immutable elements: \", S)\n",
    "\n",
    "##### Cannot allow mutable elements to be added\n",
    "# Cannot allow list to be added because it is mutable data structure\n",
    "# the same error we will get when we try to add other mutable types like sets, dictionaries\n",
    "S.add([1,2])\n",
    "print(S)"
   ]
  },
  {
   "cell_type": "code",
   "execution_count": null,
   "metadata": {},
   "outputs": [],
   "source": []
  }
 ],
 "metadata": {
  "kernelspec": {
   "display_name": "Python 3",
   "language": "python",
   "name": "python3"
  },
  "language_info": {
   "codemirror_mode": {
    "name": "ipython",
    "version": 3
   },
   "file_extension": ".py",
   "mimetype": "text/x-python",
   "name": "python",
   "nbconvert_exporter": "python",
   "pygments_lexer": "ipython3",
   "version": "3.7.6"
  }
 },
 "nbformat": 4,
 "nbformat_minor": 4
}
